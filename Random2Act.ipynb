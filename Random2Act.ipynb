{
  "nbformat": 4,
  "nbformat_minor": 0,
  "metadata": {
    "colab": {
      "name": "Random2Act.ipynb",
      "version": "0.3.2",
      "provenance": []
    },
    "kernelspec": {
      "name": "python3",
      "display_name": "Python 3"
    }
  },
  "cells": [
    {
      "metadata": {
        "id": "75c-qycGk443",
        "colab_type": "code",
        "colab": {
          "base_uri": "https://localhost:8080/",
          "height": 408
        },
        "outputId": "60fe7c08-c156-4a91-c06a-6f9fe2e0b448"
      },
      "cell_type": "code",
      "source": [
        "# Mlblr internship Assignment 2\n",
        "import numpy as np\n",
        "from scipy.special import expit as sigmoid\n",
        "wh=np.random.random((4,3))\n",
        "bh=np.random.random(3)\n",
        "bho=np.zeros((3,3))\n",
        "for i,y in enumerate(bh):\n",
        "  bho[0,i]=bh[i]\n",
        "  bho[1,i]=bh[i]\n",
        "  bho[2,i]=bh[i]\n",
        "\n",
        "print('bias params')\n",
        "print(bho)\n",
        "\n",
        "ip=np.ones([3,4])\n",
        "ip[0,1]=ip[0,3]=ip[1,1]=ip[2,0]=ip[2,2]=0\n",
        "out=np.zeros((3,3))\n",
        "outb=np.zeros((3,3))\n",
        "print(ip)\n",
        "print(wh)\n",
        "print(\"activations without bias\")\n",
        "out=ip.dot(wh)\n",
        "print(out)\n",
        "print(\"with bias\")\n",
        "outb= out + bho\n",
        "print(outb)\n",
        "print(\"activations\")\n",
        "print(sigmoid(outb))"
      ],
      "execution_count": 5,
      "outputs": [
        {
          "output_type": "stream",
          "text": [
            "bias params\n",
            "[[0.36226653 0.7411616  0.95377377]\n",
            " [0.36226653 0.7411616  0.95377377]\n",
            " [0.36226653 0.7411616  0.95377377]]\n",
            "[[1. 0. 1. 0.]\n",
            " [1. 0. 1. 1.]\n",
            " [0. 1. 0. 1.]]\n",
            "[[0.14153104 0.43874315 0.57705681]\n",
            " [0.42327118 0.34286572 0.58564487]\n",
            " [0.30951577 0.18761019 0.75011718]\n",
            " [0.3288749  0.06256645 0.31763536]]\n",
            "activations without bias\n",
            "[[0.45104681 0.62635334 1.327174  ]\n",
            " [0.77992171 0.68891979 1.64480935]\n",
            " [0.75214608 0.40543217 0.90328022]]\n",
            "with bias\n",
            "[[0.81331333 1.36751494 2.28094777]\n",
            " [1.14218823 1.43008139 2.59858312]\n",
            " [1.11441261 1.14659377 1.857054  ]]\n",
            "activations\n",
            "[[0.69281511 0.79697836 0.9072868 ]\n",
            " [0.75808117 0.806914   0.93077034]\n",
            " [0.75295084 0.75888821 0.8649532 ]]\n"
          ],
          "name": "stdout"
        }
      ]
    }
  ]
}