{
  "nbformat": 4,
  "nbformat_minor": 0,
  "metadata": {
    "colab": {
      "name": "Meenakshi_Batch_2_Assignment2a.ipynb",
      "version": "0.3.2",
      "provenance": [],
      "collapsed_sections": []
    },
    "kernelspec": {
      "display_name": "Python 3",
      "language": "python",
      "name": "python3"
    }
  },
  "cells": [
    {
      "cell_type": "markdown",
      "metadata": {
        "id": "view-in-github",
        "colab_type": "text"
      },
      "source": [
        "[View in Colaboratory](https://colab.research.google.com/github/meenasambamurthy/mlblr/blob/master/Meenakshi_Batch_2_Assignment2a.ipynb)"
      ]
    },
    {
      "metadata": {
        "id": "bE70WdKjyexS",
        "colab_type": "code",
        "colab": {
          "base_uri": "https://localhost:8080/",
          "height": 34
        },
        "outputId": "c5ce38dd-4e5f-4f1c-8ba2-5a92cf71dd6b"
      },
      "cell_type": "code",
      "source": [
        "def quicksort(eip_list):\n",
        "    if len(eip_list) <= 1:\n",
        "        return eip_list\n",
        "    mlblr = eip_list[len(eip_list) // 2]\n",
        "    eip_in = [mlblr_in for mlblr_in in eip_list if mlblr_in < mlblr]\n",
        "    eip = [mlblr_in for mlblr_in in eip_list if mlblr_in == mlblr]\n",
        "    eip_out = [mlblr_in for mlblr_in in eip_list if mlblr_in > mlblr]\n",
        "    return quicksort(eip_in) + eip + quicksort(eip_out)\n",
        "\n",
        "print(quicksort([3,6,8,10,1,2,1]))"
      ],
      "execution_count": 3,
      "outputs": [
        {
          "output_type": "stream",
          "text": [
            "[1, 1, 2, 3, 6, 8, 10]\n"
          ],
          "name": "stdout"
        }
      ]
    },
    {
      "metadata": {
        "id": "rbuH6eiRyexW",
        "colab_type": "code",
        "colab": {
          "base_uri": "https://localhost:8080/",
          "height": 187
        },
        "outputId": "0beecd86-b416-4b11-cc5f-9b8f31e75d72"
      },
      "cell_type": "code",
      "source": [
        "mlblr = 3\n",
        "print(type(mlblr)) # Prints \"<class 'int'>\"\n",
        "print(mlblr)       # Prints \"3\"\n",
        "print(mlblr + 1)   # Addition; prints \"4\"\n",
        "print(mlblr - 1)   # Subtraction; prints \"2\"\n",
        "print(mlblr * 2)   # Multiplication; prints \"6\"\n",
        "print(mlblr ** 2)  # Exponentiation; prints \"9\"\n",
        "mlblr += 1\n",
        "print(mlblr)  # Prints \"4\"\n",
        "mlblr *= 2\n",
        "print(mlblr)  # Prints \"8\"\n",
        "eip = 2.5\n",
        "print(type(eip)) # Prints \"<class 'float'>\"\n",
        "print(eip, eip + 1, eip * 2, eip ** 2) # Prints \"2.5 3.5 5.0 6.25\""
      ],
      "execution_count": 4,
      "outputs": [
        {
          "output_type": "stream",
          "text": [
            "<class 'int'>\n",
            "3\n",
            "4\n",
            "2\n",
            "6\n",
            "9\n",
            "4\n",
            "8\n",
            "<class 'float'>\n",
            "2.5 3.5 5.0 6.25\n"
          ],
          "name": "stdout"
        }
      ]
    },
    {
      "metadata": {
        "id": "z3g0SoNvyexZ",
        "colab_type": "code",
        "colab": {
          "base_uri": "https://localhost:8080/",
          "height": 102
        },
        "outputId": "ef478cfb-c3c2-4f76-9a52-e1ecd9c9c340"
      },
      "cell_type": "code",
      "source": [
        "eip = True\n",
        "mlblr = False\n",
        "print(type(eip)) # Prints \"<class 'bool'>\"\n",
        "print(eip and mlblr) # Logical AND; prints \"False\"\n",
        "print(eip or mlblr)  # Logical OR; prints \"True\"\n",
        "print(not eip)   # Logical NOT; prints \"False\"\n",
        "print(eip != mlblr)  # Logical XOR; prints \"True\""
      ],
      "execution_count": 5,
      "outputs": [
        {
          "output_type": "stream",
          "text": [
            "<class 'bool'>\n",
            "False\n",
            "True\n",
            "False\n",
            "True\n"
          ],
          "name": "stdout"
        }
      ]
    },
    {
      "metadata": {
        "id": "NIRmA9HFyexd",
        "colab_type": "code",
        "colab": {
          "base_uri": "https://localhost:8080/",
          "height": 85
        },
        "outputId": "ec136cf6-8b7b-4dfe-dca2-351fd3d5f327"
      },
      "cell_type": "code",
      "source": [
        "mlblr = 'hello'    # String literals can use single quotes\n",
        "eip = \"world\"    # or double quotes; it does not matter.\n",
        "print(mlblr)       # Prints \"hello\"\n",
        "print(len(mlblr))  # String length; prints \"5\"\n",
        "mlblr_in = mlblr + ' ' + eip  # String concatenation\n",
        "print(mlblr_in)  # prints \"hello world\"\n",
        "mlblr_out = '%s %s %d' % (mlblr, eip, 12)  # sprintf style string formatting\n",
        "print(mlblr_out)  # prints \"hello world 12\""
      ],
      "execution_count": 8,
      "outputs": [
        {
          "output_type": "stream",
          "text": [
            "hello\n",
            "5\n",
            "hello world\n",
            "hello world 12\n"
          ],
          "name": "stdout"
        }
      ]
    },
    {
      "metadata": {
        "id": "8Ki-iragyexf",
        "colab_type": "code",
        "colab": {
          "base_uri": "https://localhost:8080/",
          "height": 119
        },
        "outputId": "8ff95f25-181d-4cb5-beea-86f816366397"
      },
      "cell_type": "code",
      "source": [
        "mlblr = \"hello\"\n",
        "print(mlblr.capitalize())  # Capitalize a string; prints \"Hello\"\n",
        "print(mlblr.upper())       # Convert a string to uppercase; prints \"HELLO\"\n",
        "print(mlblr.rjust(7))      # Right-justify a string, padding with spaces; prints \"  hello\"\n",
        "print(mlblr.center(7))     # Center a string, padding with spaces; prints \" hello \"\n",
        "print(mlblr.replace('l', '(ell)'))  # Replace all instances of one substring with another;\n",
        "                                # prints \"he(ell)(ell)o\"\n",
        "print('  world '.strip())  # Strip leading and trailing whitespace; prints \"world\""
      ],
      "execution_count": 9,
      "outputs": [
        {
          "output_type": "stream",
          "text": [
            "Hello\n",
            "HELLO\n",
            "  hello\n",
            " hello \n",
            "he(ell)(ell)o\n",
            "world\n"
          ],
          "name": "stdout"
        }
      ]
    },
    {
      "metadata": {
        "id": "HNQ9q-aMyexi",
        "colab_type": "code",
        "colab": {
          "base_uri": "https://localhost:8080/",
          "height": 102
        },
        "outputId": "19f4416f-fecb-4b66-a99a-55cfaf730850"
      },
      "cell_type": "code",
      "source": [
        "mlblr_list = [3, 1, 2]    # Create a list\n",
        "print(mlblr_list, mlblr_list[2])  # Prints \"[3, 1, 2] 2\"\n",
        "print(mlblr_list[-1])     # Negative indices count from the end of the list; prints \"2\"\n",
        "mlblr_list[2] = 'foo'     # Lists can contain elements of different types\n",
        "print(mlblr_list)         # Prints \"[3, 1, 'foo']\"\n",
        "mlblr_list.append('bar')  # Add a new element to the end of the list\n",
        "print(mlblr_list)         # Prints \"[3, 1, 'foo', 'bar']\"\n",
        "mlblr = mlblr_list.pop()      # Remove and return the last element of the list\n",
        "print(mlblr, mlblr_list)      # Prints \"bar [3, 1, 'foo']\""
      ],
      "execution_count": 11,
      "outputs": [
        {
          "output_type": "stream",
          "text": [
            "[3, 1, 2] 2\n",
            "2\n",
            "[3, 1, 'foo']\n",
            "[3, 1, 'foo', 'bar']\n",
            "bar [3, 1, 'foo']\n"
          ],
          "name": "stdout"
        }
      ]
    },
    {
      "metadata": {
        "id": "akCM9Qnmyexl",
        "colab_type": "code",
        "colab": {
          "base_uri": "https://localhost:8080/",
          "height": 136
        },
        "outputId": "de0ff9a2-68ac-433c-f0e4-4b48dc16e788"
      },
      "cell_type": "code",
      "source": [
        "mlblr_list = list(range(5))     # range is a built-in function that creates a list of integers\n",
        "print(mlblr_list)               # Prints \"[0, 1, 2, 3, 4]\"\n",
        "print(mlblr_list[2:4])          # Get a slice from index 2 to 4 (exclusive); prints \"[2, 3]\"\n",
        "print(mlblr_list[2:])           # Get a slice from index 2 to the end; prints \"[2, 3, 4]\"\n",
        "print(mlblr_list[:2])           # Get a slice from the start to index 2 (exclusive); prints \"[0, 1]\"\n",
        "print(mlblr_list[:])            # Get a slice of the whole list; prints \"[0, 1, 2, 3, 4]\"\n",
        "print(mlblr_list[:-1])          # Slice indices can be negative; prints \"[0, 1, 2, 3]\"\n",
        "mlblr_list[2:4] = [8, 9]        # Assign a new sublist to a slice\n",
        "print(mlblr_list)               # Prints \"[0, 1, 8, 9, 4]\""
      ],
      "execution_count": 12,
      "outputs": [
        {
          "output_type": "stream",
          "text": [
            "[0, 1, 2, 3, 4]\n",
            "[2, 3]\n",
            "[2, 3, 4]\n",
            "[0, 1]\n",
            "[0, 1, 2, 3, 4]\n",
            "[0, 1, 2, 3]\n",
            "[0, 1, 8, 9, 4]\n"
          ],
          "name": "stdout"
        }
      ]
    },
    {
      "metadata": {
        "id": "VZcpbiQIyexo",
        "colab_type": "code",
        "colab": {
          "base_uri": "https://localhost:8080/",
          "height": 68
        },
        "outputId": "08230097-2876-447c-a1b0-ec38d6c992aa"
      },
      "cell_type": "code",
      "source": [
        "mlblr_list = ['cat', 'dog', 'monkey']\n",
        "for mlblr in mlblr_list:\n",
        "    print(mlblr)\n",
        "# Prints \"cat\", \"dog\", \"monkey\", each on its own line."
      ],
      "execution_count": 13,
      "outputs": [
        {
          "output_type": "stream",
          "text": [
            "cat\n",
            "dog\n",
            "monkey\n"
          ],
          "name": "stdout"
        }
      ]
    },
    {
      "metadata": {
        "id": "T9UibzOyyexs",
        "colab_type": "code",
        "colab": {
          "base_uri": "https://localhost:8080/",
          "height": 68
        },
        "outputId": "ce55deda-9002-4ad2-cc06-643b8a506c82"
      },
      "cell_type": "code",
      "source": [
        "mlblr_list = ['cat', 'dog', 'monkey']\n",
        "for mlblr_in, mlblr in enumerate(mlblr_list):\n",
        "    print('#%d: %s' % (mlblr_in + 1, mlblr))\n",
        "# Prints \"#1: cat\", \"#2: dog\", \"#3: monkey\", each on its own line"
      ],
      "execution_count": 14,
      "outputs": [
        {
          "output_type": "stream",
          "text": [
            "#1: cat\n",
            "#2: dog\n",
            "#3: monkey\n"
          ],
          "name": "stdout"
        }
      ]
    },
    {
      "metadata": {
        "id": "fcmMHE_Wyexv",
        "colab_type": "code",
        "colab": {
          "base_uri": "https://localhost:8080/",
          "height": 34
        },
        "outputId": "cf296603-0fa1-4f80-ae2d-8b46235f6e36"
      },
      "cell_type": "code",
      "source": [
        "mlblr_list = [0, 1, 2, 3, 4]\n",
        "mlblr = []\n",
        "for mlblr_in in mlblr_list:\n",
        "    mlblr.append(mlblr_in ** 2)\n",
        "print(mlblr)   # Prints [0, 1, 4, 9, 16]"
      ],
      "execution_count": 15,
      "outputs": [
        {
          "output_type": "stream",
          "text": [
            "[0, 1, 4, 9, 16]\n"
          ],
          "name": "stdout"
        }
      ]
    },
    {
      "metadata": {
        "id": "rtfPV1OPyexx",
        "colab_type": "code",
        "colab": {
          "base_uri": "https://localhost:8080/",
          "height": 34
        },
        "outputId": "f9bc549f-a10c-49fe-9db8-c8fe8be8da47"
      },
      "cell_type": "code",
      "source": [
        "mlblr_list = [0, 1, 2, 3, 4,5]\n",
        "mlblr_in = [eip ** 2 for eip in mlblr_list]\n",
        "print(mlblr_in)   # Prints [0, 1, 4, 9, 16]"
      ],
      "execution_count": 85,
      "outputs": [
        {
          "output_type": "stream",
          "text": [
            "[0, 1, 4, 9, 16, 25]\n"
          ],
          "name": "stdout"
        }
      ]
    },
    {
      "metadata": {
        "id": "WZuyHqmmyex0",
        "colab_type": "code",
        "colab": {
          "base_uri": "https://localhost:8080/",
          "height": 34
        },
        "outputId": "9f0d6e88-b7c2-4b9e-d34f-a9709d673417"
      },
      "cell_type": "code",
      "source": [
        "mlblr_list = [0, 1, 2, 3, 4]\n",
        "eip_list = [eip ** 2 for eip in mlblr_list if eip % 2 == 0]\n",
        "print(eip_list)  # Prints \"[0, 4, 16]\""
      ],
      "execution_count": 86,
      "outputs": [
        {
          "output_type": "stream",
          "text": [
            "[0, 4, 16]\n"
          ],
          "name": "stdout"
        }
      ]
    },
    {
      "metadata": {
        "id": "N8vbS6y9yex4",
        "colab_type": "code",
        "colab": {
          "base_uri": "https://localhost:8080/",
          "height": 119
        },
        "outputId": "3bf35afd-c963-4963-f81a-1ea42b0fc3c6"
      },
      "cell_type": "code",
      "source": [
        "eip_dict = {'cat': 'cute', 'dog': 'furry'}  # Create a new dictionary with some data\n",
        "print(eip_dict['cat'])       # Get an entry from a dictionary; prints \"cute\"\n",
        "print('cat' in eip_dict)     # Check if a dictionary has a given key; prints \"True\"\n",
        "eip_dict['fish'] = 'wet'     # Set an entry in a dictionary\n",
        "print(eip_dict['fish'])      # Prints \"wet\"\n",
        "# print(d['monkey'])  # KeyError: 'monkey' not a key of d\n",
        "print(eip_dict.get('monkey', 'N/A'))  # Get an element with a default; prints \"N/A\"\n",
        "print(eip_dict.get('fish', 'N/A'))    # Get an element with a default; prints \"wet\"\n",
        "del eip_dict['fish']         # Remove an element from a dictionary\n",
        "print(eip_dict.get('fish', 'N/A')) # \"fish\" is no longer a key; prints \"N/A\""
      ],
      "execution_count": 87,
      "outputs": [
        {
          "output_type": "stream",
          "text": [
            "cute\n",
            "True\n",
            "wet\n",
            "N/A\n",
            "wet\n",
            "N/A\n"
          ],
          "name": "stdout"
        }
      ]
    },
    {
      "metadata": {
        "id": "xTo6Z3AByex6",
        "colab_type": "code",
        "colab": {
          "base_uri": "https://localhost:8080/",
          "height": 68
        },
        "outputId": "7c93c678-232e-4da1-c230-e79a5106f290"
      },
      "cell_type": "code",
      "source": [
        "eip_dict = {'person': 2, 'cat': 4, 'spider': 8}\n",
        "for eip in eip_dict:\n",
        "    eip_in = eip_dict[eip]\n",
        "    print('A %s has %d legs' % (eip, eip_in))\n",
        "# Prints \"A person has 2 legs\", \"A cat has 4 legs\", \"A spider has 8 legs\""
      ],
      "execution_count": 88,
      "outputs": [
        {
          "output_type": "stream",
          "text": [
            "A person has 2 legs\n",
            "A cat has 4 legs\n",
            "A spider has 8 legs\n"
          ],
          "name": "stdout"
        }
      ]
    },
    {
      "metadata": {
        "id": "ZCS8gRXGyex-",
        "colab_type": "code",
        "colab": {
          "base_uri": "https://localhost:8080/",
          "height": 68
        },
        "outputId": "7ecc8a78-4dd3-48ff-dfab-278add896340"
      },
      "cell_type": "code",
      "source": [
        "eip_dict = {'person': 2, 'cat': 4, 'spider': 8}\n",
        "for eip, eip_in in eip_dict.items():\n",
        "    print('A %s has %d legs' % (eip, eip_in))\n",
        "# Prints \"A person has 2 legs\", \"A cat has 4 legs\", \"A spider has 8 legs\""
      ],
      "execution_count": 89,
      "outputs": [
        {
          "output_type": "stream",
          "text": [
            "A person has 2 legs\n",
            "A cat has 4 legs\n",
            "A spider has 8 legs\n"
          ],
          "name": "stdout"
        }
      ]
    },
    {
      "metadata": {
        "id": "dIBN9tdeyeyC",
        "colab_type": "code",
        "colab": {
          "base_uri": "https://localhost:8080/",
          "height": 34
        },
        "outputId": "f8fad716-ccc0-4f43-cdc0-813ba329eb53"
      },
      "cell_type": "code",
      "source": [
        "eip_list = [0, 1, 2, 3, 4]\n",
        "eip_out = {eip: eip ** 2 for eip in eip_list if eip % 2 == 0}\n",
        "print(eip_out)  # Prints \"{0: 0, 2: 4, 4: 16}\""
      ],
      "execution_count": 90,
      "outputs": [
        {
          "output_type": "stream",
          "text": [
            "{0: 0, 2: 4, 4: 16}\n"
          ],
          "name": "stdout"
        }
      ]
    },
    {
      "metadata": {
        "id": "CCbhOYFhyeyE",
        "colab_type": "code",
        "colab": {
          "base_uri": "https://localhost:8080/",
          "height": 119
        },
        "outputId": "862002ad-a7c9-45ba-8331-48b1948bfaec"
      },
      "cell_type": "code",
      "source": [
        "eip_list = {'cat', 'dog'}\n",
        "print('cat' in eip_list)   # Check if an element is in a set; prints \"True\"\n",
        "print('fish' in eip_list)  # prints \"False\"\n",
        "eip_list.add('fish')       # Add an element to a set\n",
        "print('fish' in eip_list)  # Prints \"True\"\n",
        "print(len(eip_list))       # Number of elements in a set; prints \"3\"\n",
        "eip_list.add('cat')        # Adding an element that is already in the set does nothing\n",
        "print(len(eip_list))       # Prints \"3\"\n",
        "eip_list.remove('cat')     # Remove an element from a set\n",
        "print(len(eip_list))       # Prints \"2\""
      ],
      "execution_count": 91,
      "outputs": [
        {
          "output_type": "stream",
          "text": [
            "True\n",
            "False\n",
            "True\n",
            "3\n",
            "3\n",
            "2\n"
          ],
          "name": "stdout"
        }
      ]
    },
    {
      "metadata": {
        "id": "VKSB--b7yeyH",
        "colab_type": "code",
        "colab": {
          "base_uri": "https://localhost:8080/",
          "height": 68
        },
        "outputId": "76c9934a-c7d0-46ad-95b3-289168713e9d"
      },
      "cell_type": "code",
      "source": [
        "eip_list = {'cat', 'dog', 'fish'}\n",
        "for eip_in, eip in enumerate(eip_list):\n",
        "    print('#%d: %s' % (eip_in + 1, eip))\n",
        "# Prints \"#1: fish\", \"#2: dog\", \"#3: cat\""
      ],
      "execution_count": 92,
      "outputs": [
        {
          "output_type": "stream",
          "text": [
            "#1: dog\n",
            "#2: fish\n",
            "#3: cat\n"
          ],
          "name": "stdout"
        }
      ]
    },
    {
      "metadata": {
        "id": "Q7wn0XSOyeyJ",
        "colab_type": "code",
        "colab": {
          "base_uri": "https://localhost:8080/",
          "height": 34
        },
        "outputId": "b6f611a2-9c7d-45c4-da3b-2035393d95c6"
      },
      "cell_type": "code",
      "source": [
        "from math import sqrt\n",
        "eip_list = {int(sqrt(eip)) for eip in range(30)}\n",
        "print(eip_list)  # Prints \"{0, 1, 2, 3, 4, 5}\""
      ],
      "execution_count": 93,
      "outputs": [
        {
          "output_type": "stream",
          "text": [
            "{0, 1, 2, 3, 4, 5}\n"
          ],
          "name": "stdout"
        }
      ]
    },
    {
      "metadata": {
        "id": "dwRnKC2VyeyL",
        "colab_type": "code",
        "colab": {
          "base_uri": "https://localhost:8080/",
          "height": 68
        },
        "outputId": "2272683a-0124-4408-dea6-4673b9b2eccc"
      },
      "cell_type": "code",
      "source": [
        "eip_dict = {(eip, eip + 1): eip for eip in range(10)}  # Create a dictionary with tuple keys\n",
        "eip_list = (5, 6)        # Create a tuple\n",
        "print(type(eip_list))    # Prints \"<class 'tuple'>\"\n",
        "print(eip_dict[eip_list])       # Prints \"5\"\n",
        "print(eip_dict[(1, 2)])  # Prints \"1\""
      ],
      "execution_count": 94,
      "outputs": [
        {
          "output_type": "stream",
          "text": [
            "<class 'tuple'>\n",
            "5\n",
            "1\n"
          ],
          "name": "stdout"
        }
      ]
    },
    {
      "metadata": {
        "id": "2EomnXnCyeyN",
        "colab_type": "code",
        "colab": {
          "base_uri": "https://localhost:8080/",
          "height": 68
        },
        "outputId": "df341174-9ef3-4a66-b4be-54abf8c6e7a6"
      },
      "cell_type": "code",
      "source": [
        "def mlblr(eip):\n",
        "    if eip > 0:\n",
        "        return 'positive'\n",
        "    elif eip < 0:\n",
        "        return 'negative'\n",
        "    else:\n",
        "        return 'zero'\n",
        "\n",
        "for eip in [-1, 0, 1]:\n",
        "    print(mlblr(eip))\n",
        "# Prints \"negative\", \"zero\", \"positive\""
      ],
      "execution_count": 101,
      "outputs": [
        {
          "output_type": "stream",
          "text": [
            "negative\n",
            "zero\n",
            "positive\n"
          ],
          "name": "stdout"
        }
      ]
    },
    {
      "metadata": {
        "id": "ZA5d4GhcyeyQ",
        "colab_type": "code",
        "colab": {
          "base_uri": "https://localhost:8080/",
          "height": 51
        },
        "outputId": "f82ef1fa-a190-4c1e-bad5-87a863331818"
      },
      "cell_type": "code",
      "source": [
        "def mlblr(eip, mlblr_in=False):\n",
        "    if mlblr_in:\n",
        "        print('HELLO, %s!' % eip.upper())\n",
        "    else:\n",
        "        print('Hello, %s' % eip)\n",
        "\n",
        "mlblr('Bob') # Prints \"Hello, Bob\"\n",
        "mlblr('Fred', mlblr_in=True)  # Prints \"HELLO, FRED!\""
      ],
      "execution_count": 103,
      "outputs": [
        {
          "output_type": "stream",
          "text": [
            "Hello, Bob\n",
            "HELLO, FRED!\n"
          ],
          "name": "stdout"
        }
      ]
    },
    {
      "metadata": {
        "id": "4O5BVtWWyeyS",
        "colab_type": "code",
        "colab": {
          "base_uri": "https://localhost:8080/",
          "height": 51
        },
        "outputId": "1864a071-587d-4142-b9cc-801e0461c539"
      },
      "cell_type": "code",
      "source": [
        "class mlblr(object):\n",
        "\n",
        "    # Constructor\n",
        "    def __init__(self, eip_out):\n",
        "        self.eip_out = eip_out  # Create an instance variable\n",
        "\n",
        "    # Instance method\n",
        "    def eip(self, eip_in=False):\n",
        "        if eip_in:\n",
        "            print('HELLO, %s!' % self.eip_out.upper())\n",
        "        else:\n",
        "            print('Hello, %s' % self.eip_out)\n",
        "\n",
        "mlblr_in = mlblr('Fred')  # Construct an instance of the Greeter class\n",
        "mlblr_in.eip()            # Call an instance method; prints \"Hello, Fred\"\n",
        "mlblr_in.eip(eip_in=True)   # Call an instance method; prints \"HELLO, FRED!\""
      ],
      "execution_count": 105,
      "outputs": [
        {
          "output_type": "stream",
          "text": [
            "Hello, Fred\n",
            "HELLO, FRED!\n"
          ],
          "name": "stdout"
        }
      ]
    },
    {
      "metadata": {
        "id": "mh8q5UPiyeyV",
        "colab_type": "code",
        "colab": {
          "base_uri": "https://localhost:8080/",
          "height": 119
        },
        "outputId": "33379df7-87d3-4cc8-8f6f-4c46facabb7e"
      },
      "cell_type": "code",
      "source": [
        "import numpy as eip\n",
        "\n",
        "mlblr_list = eip.array([1, 2, 3, 4])   # Create a rank 1 array\n",
        "print(type(mlblr_list))            # Prints \"<class 'numpy.ndarray'>\"\n",
        "print(mlblr_list.shape)            # Prints \"(3,)\"\n",
        "print(mlblr_list[0], mlblr_list[1], mlblr_list[2])   # Prints \"1 2 3\"\n",
        "mlblr_list[0] = 5                  # Change an element of the array\n",
        "print(mlblr_list)                  # Prints \"[5, 2, 3]\"\n",
        "\n",
        "eip_list = eip.array([[1,2,3],[4,5,6]])    # Create a rank 2 array\n",
        "print(eip_list.shape)                     # Prints \"(2, 3)\"\n",
        "print(eip_list[0, 0], eip_list[0, 1], eip_list[1, 0])   # Prints \"1 2 4\""
      ],
      "execution_count": 31,
      "outputs": [
        {
          "output_type": "stream",
          "text": [
            "<class 'numpy.ndarray'>\n",
            "(4,)\n",
            "1 2 3\n",
            "[5 2 3 4]\n",
            "(2, 3)\n",
            "1 2 4\n"
          ],
          "name": "stdout"
        }
      ]
    },
    {
      "metadata": {
        "id": "HJ6P-55_yeyY",
        "colab_type": "code",
        "colab": {
          "base_uri": "https://localhost:8080/",
          "height": 170
        },
        "outputId": "e305a826-1f04-4ad9-a335-c963666b0bf6"
      },
      "cell_type": "code",
      "source": [
        "import numpy as eip\n",
        "\n",
        "mlblr = eip.zeros((2,2))   # Create an array of all zeros\n",
        "print(mlblr)              # Prints \"[[ 0.  0.]\n",
        "                      #          [ 0.  0.]]\"\n",
        "\n",
        "mlblr_in = eip.ones((1,2))    # Create an array of all ones\n",
        "print(mlblr_in)              # Prints \"[[ 1.  1.]]\"\n",
        "\n",
        "mlblr_out = eip.full((2,2), 7)  # Create a constant array\n",
        "print(mlblr_out)               # Prints \"[[ 7.  7.]\n",
        "                       #          [ 7.  7.]]\"\n",
        "\n",
        "eip_in = eip.eye(2)         # Create a 2x2 identity matrix\n",
        "print(eip_in)              # Prints \"[[ 1.  0.]\n",
        "                      #          [ 0.  1.]]\"\n",
        "\n",
        "eip_out = eip.random.random((2,2))  # Create an array filled with random values\n",
        "print(eip_out)                     # Might print \"[[ 0.91940167  0.08143941]\n",
        "                             #               [ 0.68744134  0.87236687]]\""
      ],
      "execution_count": 33,
      "outputs": [
        {
          "output_type": "stream",
          "text": [
            "[[0. 0.]\n",
            " [0. 0.]]\n",
            "[[1. 1.]]\n",
            "[[7 7]\n",
            " [7 7]]\n",
            "[[1. 0.]\n",
            " [0. 1.]]\n",
            "[[0.28966077 0.43451353]\n",
            " [0.0143054  0.82426208]]\n"
          ],
          "name": "stdout"
        }
      ]
    },
    {
      "metadata": {
        "id": "9LjNo11uyeyb",
        "colab_type": "code",
        "colab": {
          "base_uri": "https://localhost:8080/",
          "height": 51
        },
        "outputId": "bb4801ff-695b-4169-a8b4-06dfa94240b3"
      },
      "cell_type": "code",
      "source": [
        "import numpy as eip\n",
        "\n",
        "# Create the following rank 2 array with shape (3, 4)\n",
        "# [[ 1  2  3  4]\n",
        "#  [ 5  6  7  8]\n",
        "#  [ 9 10 11 12]]\n",
        "mlblr_list = eip.array([[1,2,3,4], [5,6,7,8], [9,10,11,12]])\n",
        "\n",
        "# Use slicing to pull out the subarray consisting of the first 2 rows\n",
        "# and columns 1 and 2; b is the following array of shape (2, 2):\n",
        "# [[2 3]\n",
        "#  [6 7]]\n",
        "mlblr = mlblr_list[:2, 1:3]\n",
        "\n",
        "# A slice of an array is a view into the same data, so modifying it\n",
        "# will modify the original array.\n",
        "print(mlblr_list[0, 1])   # Prints \"2\"\n",
        "mlblr[0, 0] = 77     # b[0, 0] is the same piece of data as a[0, 1]\n",
        "print(mlblr_list[0, 1])   # Prints \"77\""
      ],
      "execution_count": 34,
      "outputs": [
        {
          "output_type": "stream",
          "text": [
            "2\n",
            "77\n"
          ],
          "name": "stdout"
        }
      ]
    },
    {
      "metadata": {
        "id": "TtJxQp1Uyeyd",
        "colab_type": "code",
        "colab": {
          "base_uri": "https://localhost:8080/",
          "height": 119
        },
        "outputId": "6a4112d5-e97e-44ae-e094-46672a5484cd"
      },
      "cell_type": "code",
      "source": [
        "import numpy as eip\n",
        "\n",
        "# Create the following rank 2 array with shape (3, 4)\n",
        "# [[ 1  2  3  4]\n",
        "#  [ 5  6  7  8]\n",
        "#  [ 9 10 11 12]]\n",
        "mlblr_list = eip.array([[1,2,3,4], [5,6,7,8], [9,10,11,12]])\n",
        "\n",
        "# Two ways of accessing the data in the middle row of the array.\n",
        "# Mixing integer indexing with slices yields an array of lower rank,\n",
        "# while using only slices yields an array of the same rank as the\n",
        "# original array:\n",
        "mlblr_in = mlblr_list[1, :]    # Rank 1 view of the second row of a\n",
        "mlblr_out = mlblr_list[1:2, :]  # Rank 2 view of the second row of a\n",
        "print(mlblr_in, mlblr_in.shape)  # Prints \"[5 6 7 8] (4,)\"\n",
        "print(mlblr_out, mlblr_out.shape)  # Prints \"[[5 6 7 8]] (1, 4)\"\n",
        "\n",
        "# We can make the same distinction when accessing columns of an array:\n",
        "eip_in = mlblr_list[:, 1]\n",
        "eip_out = mlblr_list[:, 1:2]\n",
        "print(eip_in, eip_in.shape)  # Prints \"[ 2  6 10] (3,)\"\n",
        "print(eip_out, eip_out.shape)  # Prints \"[[ 2]\n",
        "                             #          [ 6]\n",
        "                             #          [10]] (3, 1)\""
      ],
      "execution_count": 35,
      "outputs": [
        {
          "output_type": "stream",
          "text": [
            "[5 6 7 8] (4,)\n",
            "[[5 6 7 8]] (1, 4)\n",
            "[ 2  6 10] (3,)\n",
            "[[ 2]\n",
            " [ 6]\n",
            " [10]] (3, 1)\n"
          ],
          "name": "stdout"
        }
      ]
    },
    {
      "metadata": {
        "id": "TD0tCBdQyeyg",
        "colab_type": "code",
        "colab": {
          "base_uri": "https://localhost:8080/",
          "height": 85
        },
        "outputId": "81758fd2-88ed-478f-886e-581fc89c0b48"
      },
      "cell_type": "code",
      "source": [
        "import numpy as eip\n",
        "\n",
        "mlblr_list = eip.array([[1,2], [3, 4], [5, 6]])\n",
        "\n",
        "# An example of integer array indexing.\n",
        "# The returned array will have shape (3,) and\n",
        "print(mlblr_list[[0, 1, 2], [0, 1, 0]])  # Prints \"[1 4 5]\"\n",
        "\n",
        "# The above example of integer array indexing is equivalent to this:\n",
        "print(eip.array([mlblr_list[0, 0], mlblr_list[1, 1], mlblr_list[2, 0]]))  # Prints \"[1 4 5]\"\n",
        "\n",
        "# When using integer array indexing, you can reuse the same\n",
        "# element from the source array:\n",
        "print(mlblr_list[[0, 0], [1, 1]])  # Prints \"[2 2]\"\n",
        "\n",
        "# Equivalent to the previous integer array indexing example\n",
        "print(eip.array([mlblr_list[0, 1], mlblr_list[0, 1]]))  # Prints \"[2 2]\""
      ],
      "execution_count": 36,
      "outputs": [
        {
          "output_type": "stream",
          "text": [
            "[1 4 5]\n",
            "[1 4 5]\n",
            "[2 2]\n",
            "[2 2]\n"
          ],
          "name": "stdout"
        }
      ]
    },
    {
      "metadata": {
        "id": "qlZSLrU5yeyi",
        "colab_type": "code",
        "colab": {
          "base_uri": "https://localhost:8080/",
          "height": 170
        },
        "outputId": "01ef6bb1-a8d1-4ff7-ab30-329df3886496"
      },
      "cell_type": "code",
      "source": [
        "import numpy as eip\n",
        "\n",
        "# Create a new array from which we will select elements\n",
        "mlblr_list = eip.array([[1,2,3], [4,5,6], [7,8,9], [10, 11, 12]])\n",
        "\n",
        "print(mlblr_list)  # prints \"array([[ 1,  2,  3],\n",
        "          #                [ 4,  5,  6],\n",
        "          #                [ 7,  8,  9],\n",
        "          #                [10, 11, 12]])\"\n",
        "\n",
        "# Create an array of indices\n",
        "mlblr_in = eip.array([0, 2, 0, 1])\n",
        "\n",
        "# Select one element from each row of a using the indices in b\n",
        "print(mlblr_list[eip.arange(4), mlblr_in])  # Prints \"[ 1  6  7 11]\"\n",
        "\n",
        "# Mutate one element from each row of a using the indices in b\n",
        "mlblr_list[eip.arange(4), mlblr_in] += 10\n",
        "\n",
        "print(mlblr_list)  # prints \"array([[11,  2,  3],\n",
        "          #                [ 4,  5, 16],\n",
        "          #                [17,  8,  9],\n",
        "          #                [10, 21, 12]])"
      ],
      "execution_count": 38,
      "outputs": [
        {
          "output_type": "stream",
          "text": [
            "[[ 1  2  3]\n",
            " [ 4  5  6]\n",
            " [ 7  8  9]\n",
            " [10 11 12]]\n",
            "[ 1  6  7 11]\n",
            "[[11  2  3]\n",
            " [ 4  5 16]\n",
            " [17  8  9]\n",
            " [10 21 12]]\n"
          ],
          "name": "stdout"
        }
      ]
    },
    {
      "metadata": {
        "id": "MS0wjdthyeyl",
        "colab_type": "code",
        "colab": {
          "base_uri": "https://localhost:8080/",
          "height": 102
        },
        "outputId": "efd1617c-63ee-4376-a095-5dfff2e150ef"
      },
      "cell_type": "code",
      "source": [
        "import numpy as eip\n",
        "\n",
        "mlblr_list = eip.array([[1,2], [3, 4], [5, 6]])\n",
        "\n",
        "eip_in = (mlblr_list > 2)   # Find the elements of a that are bigger than 2;\n",
        "                     # this returns a numpy array of Booleans of the same\n",
        "                     # shape as a, where each slot of bool_idx tells\n",
        "                     # whether that element of a is > 2.\n",
        "\n",
        "print(eip_in)      # Prints \"[[False False]\n",
        "                     #          [ True  True]\n",
        "                     #          [ True  True]]\"\n",
        "\n",
        "# We use boolean array indexing to construct a rank 1 array\n",
        "# consisting of the elements of a corresponding to the True values\n",
        "# of bool_idx\n",
        "print(mlblr_list[eip_in])  # Prints \"[3 4 5 6]\"\n",
        "\n",
        "# We can do all of the above in a single concise statement:\n",
        "print(mlblr_list[mlblr_list > 2])     # Prints \"[3 4 5 6]\""
      ],
      "execution_count": 39,
      "outputs": [
        {
          "output_type": "stream",
          "text": [
            "[[False False]\n",
            " [ True  True]\n",
            " [ True  True]]\n",
            "[3 4 5 6]\n",
            "[3 4 5 6]\n"
          ],
          "name": "stdout"
        }
      ]
    },
    {
      "metadata": {
        "id": "r9kdSI-1yeyn",
        "colab_type": "code",
        "colab": {
          "base_uri": "https://localhost:8080/",
          "height": 68
        },
        "outputId": "29eb9c9c-e33e-4843-c334-65496cbed89e"
      },
      "cell_type": "code",
      "source": [
        "import numpy as eip\n",
        "\n",
        "mlblr_list = eip.array([1, 2])   # Let numpy choose the datatype\n",
        "print(mlblr_list.dtype)         # Prints \"int64\"\n",
        "\n",
        "mlblr_list = eip.array([1.0, 2.0])   # Let numpy choose the datatype\n",
        "print(mlblr_list.dtype)             # Prints \"float64\"\n",
        "\n",
        "mlblr_list = eip.array([1, 2], dtype=eip.int64)   # Force a particular datatype\n",
        "print(mlblr_list.dtype)                         # Prints \"int64\""
      ],
      "execution_count": 41,
      "outputs": [
        {
          "output_type": "stream",
          "text": [
            "int64\n",
            "float64\n",
            "int64\n"
          ],
          "name": "stdout"
        }
      ]
    },
    {
      "metadata": {
        "id": "j4tdr-ONyeyr",
        "colab_type": "code",
        "colab": {
          "base_uri": "https://localhost:8080/",
          "height": 323
        },
        "outputId": "4f8b4296-78fb-49ae-ab18-3df7802df911"
      },
      "cell_type": "code",
      "source": [
        "import numpy as eip\n",
        "\n",
        "mlblr_in = eip.array([[1,2],[3,4]], dtype=eip.float64)\n",
        "mlblr_out = eip.array([[5,6],[7,8]], dtype=eip.float64)\n",
        "\n",
        "# Elementwise sum; both produce the array\n",
        "# [[ 6.0  8.0]\n",
        "#  [10.0 12.0]]\n",
        "print(mlblr_in + mlblr_out)\n",
        "print(eip.add(mlblr_in, mlblr_out))\n",
        "\n",
        "# Elementwise difference; both produce the array\n",
        "# [[-4.0 -4.0]\n",
        "#  [-4.0 -4.0]]\n",
        "print(mlblr_in - mlblr_out)\n",
        "print(eip.subtract(mlblr_in, mlblr_out))\n",
        "\n",
        "# Elementwise product; both produce the array\n",
        "# [[ 5.0 12.0]\n",
        "#  [21.0 32.0]]\n",
        "print(mlblr_in * mlblr_out)\n",
        "print(eip.multiply(mlblr_in, mlblr_out))\n",
        "\n",
        "# Elementwise division; both produce the array\n",
        "# [[ 0.2         0.33333333]\n",
        "#  [ 0.42857143  0.5       ]]\n",
        "print(mlblr_in / mlblr_out)\n",
        "print(eip.divide(mlblr_in, mlblr_out))\n",
        "\n",
        "# Elementwise square root; produces the array\n",
        "# [[ 1.          1.41421356]\n",
        "#  [ 1.73205081  2.        ]]\n",
        "print(eip.sqrt(mlblr_in))"
      ],
      "execution_count": 43,
      "outputs": [
        {
          "output_type": "stream",
          "text": [
            "[[ 6.  8.]\n",
            " [10. 12.]]\n",
            "[[ 6.  8.]\n",
            " [10. 12.]]\n",
            "[[-4. -4.]\n",
            " [-4. -4.]]\n",
            "[[-4. -4.]\n",
            " [-4. -4.]]\n",
            "[[ 5. 12.]\n",
            " [21. 32.]]\n",
            "[[ 5. 12.]\n",
            " [21. 32.]]\n",
            "[[0.2        0.33333333]\n",
            " [0.42857143 0.5       ]]\n",
            "[[0.2        0.33333333]\n",
            " [0.42857143 0.5       ]]\n",
            "[[1.         1.41421356]\n",
            " [1.73205081 2.        ]]\n"
          ],
          "name": "stdout"
        }
      ]
    },
    {
      "metadata": {
        "id": "bDWnaec-yeyt",
        "colab_type": "code",
        "colab": {
          "base_uri": "https://localhost:8080/",
          "height": 153
        },
        "outputId": "2dfc1d6f-c7b2-4144-f0ce-48a77b5d1818"
      },
      "cell_type": "code",
      "source": [
        "import numpy as eip\n",
        "\n",
        "mlblr_in = eip.array([[1,2],[3,4]])\n",
        "mlblr_out = eip.array([[5,6],[7,8]])\n",
        "\n",
        "eip_in = eip.array([9,10])\n",
        "eip_out = eip.array([11, 12])\n",
        "\n",
        "# Inner product of vectors; both produce 219\n",
        "print(eip_in.dot(eip_out))\n",
        "print(eip.dot(eip_in, eip_out))\n",
        "\n",
        "# Matrix / vector product; both produce the rank 1 array [29 67]\n",
        "print(mlblr_in.dot(eip_in))\n",
        "print(eip.dot(mlblr_in, eip_in))\n",
        "\n",
        "# Matrix / matrix product; both produce the rank 2 array\n",
        "# [[19 22]\n",
        "#  [43 50]]\n",
        "print(mlblr_in.dot(mlblr_out))\n",
        "print(eip.dot(mlblr_in, mlblr_out))"
      ],
      "execution_count": 45,
      "outputs": [
        {
          "output_type": "stream",
          "text": [
            "219\n",
            "219\n",
            "[29 67]\n",
            "[29 67]\n",
            "[[19 22]\n",
            " [43 50]]\n",
            "[[19 22]\n",
            " [43 50]]\n"
          ],
          "name": "stdout"
        }
      ]
    },
    {
      "metadata": {
        "id": "7Rh3vKRxyeyz",
        "colab_type": "code",
        "colab": {
          "base_uri": "https://localhost:8080/",
          "height": 68
        },
        "outputId": "085c0aa8-d751-4715-93d7-d1a43d74a710"
      },
      "cell_type": "code",
      "source": [
        "import numpy as eip\n",
        "\n",
        "eip_in = eip.array([[1,2],[3,4]])\n",
        "\n",
        "print(eip.sum(eip_in))  # Compute sum of all elements; prints \"10\"\n",
        "print(eip.sum(eip_in, axis=0))  # Compute sum of each column; prints \"[4 6]\"\n",
        "print(eip.sum(eip_in, axis=1))  # Compute sum of each row; prints \"[3 7]\""
      ],
      "execution_count": 47,
      "outputs": [
        {
          "output_type": "stream",
          "text": [
            "10\n",
            "[4 6]\n",
            "[3 7]\n"
          ],
          "name": "stdout"
        }
      ]
    },
    {
      "metadata": {
        "id": "A2Maqiinyey2",
        "colab_type": "code",
        "colab": {
          "base_uri": "https://localhost:8080/",
          "height": 119
        },
        "outputId": "503b10b1-6aa2-4336-9133-ff84a2478cd5"
      },
      "cell_type": "code",
      "source": [
        "import numpy as eip\n",
        "\n",
        "eip_in = eip.array([[1,2], [3,4]])\n",
        "print(eip_in)    # Prints \"[[1 2]\n",
        "            #          [3 4]]\"\n",
        "print(eip_in.T)  # Prints \"[[1 3]\n",
        "            #          [2 4]]\"\n",
        "\n",
        "# Note that taking the transpose of a rank 1 array does nothing:\n",
        "eip_out = eip.array([1,2,3])\n",
        "print(eip_out)    # Prints \"[1 2 3]\"\n",
        "print(eip_out.T)  # Prints \"[1 2 3]\""
      ],
      "execution_count": 48,
      "outputs": [
        {
          "output_type": "stream",
          "text": [
            "[[1 2]\n",
            " [3 4]]\n",
            "[[1 3]\n",
            " [2 4]]\n",
            "[1 2 3]\n",
            "[1 2 3]\n"
          ],
          "name": "stdout"
        }
      ]
    },
    {
      "metadata": {
        "id": "m1P4hwFLyey5",
        "colab_type": "code",
        "colab": {
          "base_uri": "https://localhost:8080/",
          "height": 85
        },
        "outputId": "9af8f033-7a67-47a7-91ad-a169b6a81344"
      },
      "cell_type": "code",
      "source": [
        "import numpy as eip\n",
        "\n",
        "# We will add the vector v to each row of the matrix x,\n",
        "# storing the result in the matrix y\n",
        "mlblr_list = eip.array([[1,2,3], [4,5,6], [7,8,9], [10, 11, 12]])\n",
        "mlblr_in = eip.array([1, 0, 1])\n",
        "mlblr_out = eip.empty_like(mlblr_list)   # Create an empty matrix with the same shape as x\n",
        "\n",
        "# Add the vector v to each row of the matrix x with an explicit loop\n",
        "for mlblr in range(4):\n",
        "    mlblr_out[mlblr, :] = mlblr_list[mlblr, :] + mlblr_in\n",
        "\n",
        "# Now y is the following\n",
        "# [[ 2  2  4]\n",
        "#  [ 5  5  7]\n",
        "#  [ 8  8 10]\n",
        "#  [11 11 13]]\n",
        "print(mlblr_out)"
      ],
      "execution_count": 54,
      "outputs": [
        {
          "output_type": "stream",
          "text": [
            "[[ 2  2  4]\n",
            " [ 5  5  7]\n",
            " [ 8  8 10]\n",
            " [11 11 13]]\n"
          ],
          "name": "stdout"
        }
      ]
    },
    {
      "metadata": {
        "id": "zh7P_80IrV4v",
        "colab_type": "code",
        "colab": {
          "base_uri": "https://localhost:8080/",
          "height": 85
        },
        "outputId": "ce7f9dcc-19b0-4c7a-a66c-d940f69394e1"
      },
      "cell_type": "code",
      "source": [
        "import numpy as np\n",
        "\n",
        "# We will add the vector v to each row of the matrix x,\n",
        "# storing the result in the matrix y\n",
        "x = np.array([[1,2,3], [4,5,6], [7,8,9], [10, 11, 12]])\n",
        "v = np.array([1, 0, 1])\n",
        "y = np.empty_like(x)   # Create an empty matrix with the same shape as x\n",
        "\n",
        "# Add the vector v to each row of the matrix x with an explicit loop\n",
        "for i in range(4):\n",
        "    y[i, :] = x[i, :] + v\n",
        "\n",
        "# Now y is the following\n",
        "# [[ 2  2  4]\n",
        "#  [ 5  5  7]\n",
        "#  [ 8  8 10]\n",
        "#  [11 11 13]]\n",
        "print(y)"
      ],
      "execution_count": 0,
      "outputs": [
        {
          "output_type": "stream",
          "text": [
            "[[ 2  2  4]\n",
            " [ 5  5  7]\n",
            " [ 8  8 10]\n",
            " [11 11 13]]\n"
          ],
          "name": "stdout"
        }
      ]
    },
    {
      "metadata": {
        "id": "dtVf-RtLyey8",
        "colab_type": "code",
        "colab": {
          "base_uri": "https://localhost:8080/",
          "height": 153
        },
        "outputId": "5edce66d-173e-487c-91b8-48402cfd2e24"
      },
      "cell_type": "code",
      "source": [
        "import numpy as eip\n",
        "\n",
        "# We will add the vector v to each row of the matrix x,\n",
        "# storing the result in the matrix y\n",
        "mlblr_in = eip.array([[1,2,3], [4,5,6], [7,8,9], [10, 11, 12]])\n",
        "eip_in = eip.array([1, 0, 1])\n",
        "eip_out = eip.tile(v, (4, 1))   # Stack 4 copies of v on top of each other\n",
        "print(eip_out)                 # Prints \"[[1 0 1]\n",
        "                          #          [1 0 1]\n",
        "                          #          [1 0 1]\n",
        "                          #          [1 0 1]]\"\n",
        "mlblr_out = mlblr_in + eip_out  # Add x and vv elementwise\n",
        "print(mlblr_out)  # Prints \"[[ 2  2  4\n",
        "          #          [ 5  5  7]\n",
        "          #          [ 8  8 10]\n",
        "          #          [11 11 13]]\""
      ],
      "execution_count": 55,
      "outputs": [
        {
          "output_type": "stream",
          "text": [
            "[[1 0 1]\n",
            " [1 0 1]\n",
            " [1 0 1]\n",
            " [1 0 1]]\n",
            "[[ 2  2  4]\n",
            " [ 5  5  7]\n",
            " [ 8  8 10]\n",
            " [11 11 13]]\n"
          ],
          "name": "stdout"
        }
      ]
    },
    {
      "metadata": {
        "id": "EyfzIlfSyey9",
        "colab_type": "code",
        "colab": {
          "base_uri": "https://localhost:8080/",
          "height": 85
        },
        "outputId": "fd9fb76d-85fa-47bf-a4b4-d1954b2d30ca"
      },
      "cell_type": "code",
      "source": [
        "import numpy as eip\n",
        "\n",
        "# We will add the vector v to each row of the matrix x,\n",
        "# storing the result in the matrix y\n",
        "eip_in = eip.array([[1,2,3], [4,5,6], [7,8,9], [10, 11, 12]])\n",
        "mlblr = eip.array([1, 0, 1])\n",
        "eip_out = eip_in + mlblr  # Add v to each row of x using broadcasting\n",
        "print(eip_out)  # Prints \"[[ 2  2  4]\n",
        "          #          [ 5  5  7]\n",
        "          #          [ 8  8 10]\n",
        "          #          [11 11 13]]\""
      ],
      "execution_count": 57,
      "outputs": [
        {
          "output_type": "stream",
          "text": [
            "[[ 2  2  4]\n",
            " [ 5  5  7]\n",
            " [ 8  8 10]\n",
            " [11 11 13]]\n"
          ],
          "name": "stdout"
        }
      ]
    },
    {
      "metadata": {
        "id": "f1wA4FXKyezC",
        "colab_type": "code",
        "colab": {
          "base_uri": "https://localhost:8080/",
          "height": 204
        },
        "outputId": "430613e8-2568-47b3-807f-ad00e671993d"
      },
      "cell_type": "code",
      "source": [
        "import numpy as eip\n",
        "\n",
        "# Compute outer product of vectors\n",
        "eip_in = eip.array([1,2,3])  # v has shape (3,)\n",
        "eip_out = eip.array([4,5])    # w has shape (2,)\n",
        "# To compute an outer product, we first reshape v to be a column\n",
        "# vector of shape (3, 1); we can then broadcast it against w to yield\n",
        "# an output of shape (3, 2), which is the outer product of v and w:\n",
        "# [[ 4  5]\n",
        "#  [ 8 10]\n",
        "#  [12 15]]\n",
        "print(eip.reshape(eip_in, (3, 1)) * eip_out)\n",
        "\n",
        "# Add a vector to each row of a matrix\n",
        "mlblr_out = eip.array([[1,2,3], [4,5,6]])\n",
        "# x has shape (2, 3) and v has shape (3,) so they broadcast to (2, 3),\n",
        "# giving the following matrix:\n",
        "# [[2 4 6]\n",
        "#  [5 7 9]]\n",
        "print(mlblr_out + eip_in)\n",
        "\n",
        "# Add a vector to each column of a matrix\n",
        "# x has shape (2, 3) and w has shape (2,).\n",
        "# If we transpose x then it has shape (3, 2) and can be broadcast\n",
        "# against w to yield a result of shape (3, 2); transposing this result\n",
        "# yields the final result of shape (2, 3) which is the matrix x with\n",
        "# the vector w added to each column. Gives the following matrix:\n",
        "# [[ 5  6  7]\n",
        "#  [ 9 10 11]]\n",
        "print((mlblr_out.T + eip_out).T)\n",
        "# Another solution is to reshape w to be a column vector of shape (2, 1);\n",
        "# we can then broadcast it directly against x to produce the same\n",
        "# output.\n",
        "print(mlblr_out + eip.reshape(eip_out, (2, 1)))\n",
        "\n",
        "# Multiply a matrix by a constant:\n",
        "# x has shape (2, 3). Numpy treats scalars as arrays of shape ();\n",
        "# these can be broadcast together to shape (2, 3), producing the\n",
        "# following array:\n",
        "# [[ 2  4  6]\n",
        "#  [ 8 10 12]]\n",
        "print(mlblr_out * 2)"
      ],
      "execution_count": 59,
      "outputs": [
        {
          "output_type": "stream",
          "text": [
            "[[ 4  5]\n",
            " [ 8 10]\n",
            " [12 15]]\n",
            "[[2 4 6]\n",
            " [5 7 9]]\n",
            "[[ 5  6  7]\n",
            " [ 9 10 11]]\n",
            "[[ 5  6  7]\n",
            " [ 9 10 11]]\n",
            "[[ 2  4  6]\n",
            " [ 8 10 12]]\n"
          ],
          "name": "stdout"
        }
      ]
    },
    {
      "metadata": {
        "id": "ndMAiLEiyezE",
        "colab_type": "code",
        "colab": {
          "base_uri": "https://localhost:8080/",
          "height": 122
        },
        "outputId": "97c9e30b-9211-460e-b6de-69c357ba4b40"
      },
      "cell_type": "code",
      "source": [
        "from scipy.misc import imread, imsave, imresize\n",
        "from urllib.request import urlopen\n",
        "\n",
        "# Read an JPEG image into a numpy array\n",
        "with urlopen('https://encrypted-tbn0.gstatic.com/images?q=tbn:ANd9GcRtUPjSSDzevfy47QqVpd8v2Nrt49QNIXeAfE9ntEwYKJtnDZabwg') as eip:\n",
        "  eip_in = imread(eip, mode='RGB')\n",
        "print(eip_in.dtype, eip_in.shape)  # Prints \"uint8 (400, 248, 3)\"\n",
        "\n",
        "\n",
        "# We can tint the image by scaling each of the color channels\n",
        "# by a different scalar constant. The image has shape (400, 248, 3);\n",
        "# we multiply it by the array [1, 0.95, 0.9] of shape (3,);\n",
        "# numpy broadcasting means that this leaves the red channel unchanged,\n",
        "# and multiplies the green and blue channels by 0.95 and 0.9\n",
        "# respectively.\n",
        "eip_out = eip_in * [1, 0.95, 0.9]\n",
        "\n",
        "# Resize the tinted image to be 300 by 300 pixels.\n",
        "eip_out = imresize(eip_out, (300, 300))\n",
        "\n",
        "\n",
        "# Write the tinted image back to disk\n",
        "#imsave('assets/cat_tinted.jpg', eip_out)\n"
      ],
      "execution_count": 76,
      "outputs": [
        {
          "output_type": "stream",
          "text": [
            "uint8 (194, 259, 3)\n"
          ],
          "name": "stdout"
        },
        {
          "output_type": "stream",
          "text": [
            "/usr/local/lib/python3.6/dist-packages/scipy/misc/pilutil.py:482: FutureWarning: Conversion of the second argument of issubdtype from `int` to `np.signedinteger` is deprecated. In future, it will be treated as `np.int64 == np.dtype(int).type`.\n",
            "  if issubdtype(ts, int):\n",
            "/usr/local/lib/python3.6/dist-packages/scipy/misc/pilutil.py:485: FutureWarning: Conversion of the second argument of issubdtype from `float` to `np.floating` is deprecated. In future, it will be treated as `np.float64 == np.dtype(float).type`.\n",
            "  elif issubdtype(type(size), float):\n"
          ],
          "name": "stderr"
        }
      ]
    },
    {
      "metadata": {
        "id": "NRP8tJFeyezG",
        "colab_type": "code",
        "colab": {
          "base_uri": "https://localhost:8080/",
          "height": 119
        },
        "outputId": "e6394558-033e-456d-cf93-54fdec2f3868"
      },
      "cell_type": "code",
      "source": [
        "import numpy as eip\n",
        "from scipy.spatial.distance import pdist, squareform\n",
        "\n",
        "# Create the following array where each row is a point in 2D space:\n",
        "# [[0 1]\n",
        "#  [1 0]\n",
        "#  [2 0]]\n",
        "mlblr_list = eip.array([[0, 1], [1, 0], [2, 0]])\n",
        "print(mlblr_list)\n",
        "\n",
        "# Compute the Euclidean distance between all rows of x.\n",
        "# d[i, j] is the Euclidean distance between x[i, :] and x[j, :],\n",
        "# and d is the following array:\n",
        "# [[ 0.          1.41421356  2.23606798]\n",
        "#  [ 1.41421356  0.          1.        ]\n",
        "#  [ 2.23606798  1.          0.        ]]\n",
        "mlblr_out = squareform(pdist(mlblr_list, 'euclidean'))\n",
        "print(mlblr_out)"
      ],
      "execution_count": 77,
      "outputs": [
        {
          "output_type": "stream",
          "text": [
            "[[0 1]\n",
            " [1 0]\n",
            " [2 0]]\n",
            "[[0.         1.41421356 2.23606798]\n",
            " [1.41421356 0.         1.        ]\n",
            " [2.23606798 1.         0.        ]]\n"
          ],
          "name": "stdout"
        }
      ]
    },
    {
      "metadata": {
        "id": "fahBpQgHyezH",
        "colab_type": "code",
        "colab": {
          "base_uri": "https://localhost:8080/",
          "height": 347
        },
        "outputId": "098b2ed2-87bb-49bd-cf67-75558e98c060"
      },
      "cell_type": "code",
      "source": [
        "import numpy as eip\n",
        "import matplotlib.pyplot as mlblr\n",
        "\n",
        "# Compute the x and y coordinates for points on a sine curve\n",
        "mlblr_in = eip.arange(0, 3 * eip.pi, 0.1)\n",
        "mlblr_out = eip.sin(mlblr_in)\n",
        "\n",
        "# Plot the points using matplotlib\n",
        "mlblr.plot(mlblr_in, mlblr_out)\n",
        "mlblr.show()  # You must call plt.show() to make graphics appear."
      ],
      "execution_count": 80,
      "outputs": [
        {
          "output_type": "display_data",
          "data": {
            "image/png": "[encoded data removed]",
            "text/plain": [
              "<matplotlib.figure.Figure at 0x7f96d20c0278>"
            ]
          },
          "metadata": {
            "tags": []
          }
        }
      ]
    },
    {
      "metadata": {
        "id": "c116zbJ1yezK",
        "colab_type": "code",
        "colab": {
          "base_uri": "https://localhost:8080/",
          "height": 376
        },
        "outputId": "110375c4-423a-490e-eaa0-27b3f804c364"
      },
      "cell_type": "code",
      "source": [
        "import numpy as eip\n",
        "import matplotlib.pyplot as mlblr\n",
        "\n",
        "# Compute the x and y coordinates for points on sine and cosine curves\n",
        "mlblr_list = eip.arange(0, 3 * eip.pi, 0.1)\n",
        "mlblr_in = eip.sin(mlblr_list)\n",
        "mlblr_out = eip.cos(mlblr_list)\n",
        "\n",
        "# Plot the points using matplotlib\n",
        "mlblr.plot(mlblr_list, mlblr_in)\n",
        "mlblr.plot(mlblr_list, mlblr_out)\n",
        "mlblr.xlabel('x axis label')\n",
        "mlblr.ylabel('y axis label')\n",
        "mlblr.title('Sine and Cosine')\n",
        "mlblr.legend(['Sine', 'Cosine'])\n",
        "mlblr.show()"
      ],
      "execution_count": 81,
      "outputs": [
        {
          "output_type": "display_data",
          "data": {
            "image/png": "[encoded data removed]",
            "text/plain": [
              "<matplotlib.figure.Figure at 0x7f96d61547f0>"
            ]
          },
          "metadata": {
            "tags": []
          }
        }
      ]
    },
    {
      "metadata": {
        "id": "8PRO7qlTyezL",
        "colab_type": "code",
        "colab": {
          "base_uri": "https://localhost:8080/",
          "height": 362
        },
        "outputId": "afc0dcb2-9941-485a-81d9-48c60e7b0e13"
      },
      "cell_type": "code",
      "source": [
        "import numpy as eip\n",
        "import matplotlib.pyplot as mlblr\n",
        "\n",
        "# Compute the x and y coordinates for points on sine and cosine curves\n",
        "mlblr_list = eip.arange(0, 3 * eip.pi, 0.1)\n",
        "mlblr_in = eip.sin(mlblr_list)\n",
        "mlblr_out = eip.cos(mlblr_list)\n",
        "\n",
        "# Set up a subplot grid that has height 2 and width 1,\n",
        "# and set the first such subplot as active.\n",
        "mlblr.subplot(2, 1, 1)\n",
        "\n",
        "# Make the first plot\n",
        "mlblr.plot(mlblr_list, mlblr_in)\n",
        "mlblr.title('Sine')\n",
        "\n",
        "# Set the second subplot as active, and make the second plot.\n",
        "mlblr.subplot(2, 1, 2)\n",
        "mlblr.plot(mlblr_list, mlblr_out)\n",
        "mlblr.title('Cosine')\n",
        "\n",
        "# Show the figure.\n",
        "mlblr.show()"
      ],
      "execution_count": 82,
      "outputs": [
        {
          "output_type": "display_data",
          "data": {
            "image/png": "[encoded data removed]",
            "text/plain": [
              "<matplotlib.figure.Figure at 0x7f96d1e32908>"
            ]
          },
          "metadata": {
            "tags": []
          }
        }
      ]
    },
    {
      "metadata": {
        "id": "dE9AdjEvyezO",
        "colab_type": "code",
        "colab": {
          "base_uri": "https://localhost:8080/",
          "height": 203
        },
        "outputId": "c29ab62c-a538-45d3-da3f-7f8ee9b05a91"
      },
      "cell_type": "code",
      "source": [
        "import numpy as mlblr\n",
        "from urllib.request import urlopen\n",
        "from scipy.misc import imread, imresize\n",
        "import matplotlib.pyplot as mlblr_in\n",
        "\n",
        "with urlopen('https://encrypted-tbn0.gstatic.com/images?q=tbn:ANd9GcRtUPjSSDzevfy47QqVpd8v2Nrt49QNIXeAfE9ntEwYKJtnDZabwg') as eip_out:\n",
        "  eip = imread(eip_out, mode='RGB')\n",
        "eip_in = eip * [1, 0.5, 0.05]\n",
        "\n",
        "# Show the original image\n",
        "mlblr_in.subplot(1, 2, 1)\n",
        "mlblr_in.imshow(eip)\n",
        "\n",
        "# Show the tinted image\n",
        "mlblr_in.subplot(1, 2, 2)\n",
        "\n",
        "# A slight gotcha with imshow is that it might give strange results\n",
        "# if presented with data that is not uint8. To work around this, we\n",
        "# explicitly cast the image to uint8 before displaying it.\n",
        "mlblr_in.imshow(mlblr.uint8(eip_in))\n",
        "mlblr_in.show()"
      ],
      "execution_count": 29,
      "outputs": [
        {
          "output_type": "display_data",
          "data": {
            "image/png": "[encoded data removed]",
            "text/plain": [
              "<matplotlib.figure.Figure at 0x7f96d22c9c18>"
            ]
          },
          "metadata": {
            "tags": []
          }
        }
      ]
    },
    {
      "metadata": {
        "id": "yiaXqJu3yezQ",
        "colab_type": "text"
      },
      "cell_type": "markdown",
      "source": [
        "<div class='fig figcenter fighighlight'>\n",
        "  <img src='assets/cat_tinted_imshow.png'>\n",
        "</div>"
      ]
    }
  ]
}